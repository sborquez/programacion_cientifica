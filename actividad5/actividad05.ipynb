{
 "cells": [
  {
   "cell_type": "markdown",
   "metadata": {
    "deletable": true,
    "editable": true
   },
   "source": [
    "<h1 align=\"center\">Scientific Programming in Python</h1>\n",
    "<h2 align=\"center\">Topic 5: Accelerating Python with Cython: Writting C in Python </h2> \n",
    "\n",
    "\n",
    "_Notebook created by Martín Villanueva - `martin.villanueva@usm.cl` - DI UTFSM - May2017._"
   ]
  },
  {
   "cell_type": "code",
   "execution_count": 1,
   "metadata": {
    "collapsed": false,
    "deletable": true,
    "editable": true
   },
   "outputs": [],
   "source": [
    "import numba\n",
    "import numpy as np\n",
    "from math import sqrt\n",
    "\n",
    "%load_ext Cython"
   ]
  },
  {
   "cell_type": "markdown",
   "metadata": {
    "collapsed": true,
    "deletable": true,
    "editable": true
   },
   "source": [
    "## La distancia de Hausdorff nuevamente...\n",
    "\n",
    "En esta actividad volveremos a implementar la distancia/métrica de Hausdorff, pero ahora utilizando Cython.\n",
    "\n",
    "__La métrica de Hausdorff__ corresponde a un métrica o distancia ocupada para medir cuán disímiles son dos subconjuntos dados. \n",
    "\n",
    "Esta tiene muchas aplicaciones, en particular para comparar el parecido entre imágenes. En el caso en donde los conjuntos son arreglos bidimensionales, la definición es la siguiente:\n",
    "\n",
    "Sean $X \\in \\mathbb{R}^{m \\times 3}$ e  $Y \\in \\mathbb{R}^{n \\times 3}$ dos matrices, la métrica/distancia de Hausdorff sobre sobre estas como:\n",
    "\n",
    "$$\n",
    "d_H(X,Y) = \\max \\left(\\ \\max_{i\\leq m} \\min_{j \\leq n} d(X[i],Y[j]), \\ \\max_{j\\leq n} \\min_{i \\leq m} d(Y[j],X[i]) \\ \\right)\n",
    "$$\n",
    "\n",
    "donde $d$ es la _distancia Euclideana_ clásica. ($X[i]$ indíca la i-ésima fila de X).\n",
    "\n",
    "__Ilustración unidimensional:__ Distancia entre funciones.\n",
    "<img src='data/hausdorff.png' style=\"width: 600px;\">"
   ]
  },
  {
   "cell_type": "markdown",
   "metadata": {
    "deletable": true,
    "editable": true
   },
   "source": [
    "A continuación se le proveen 3 funciones que implementan tal métrica, usando __Numba__."
   ]
  },
  {
   "cell_type": "code",
   "execution_count": 2,
   "metadata": {
    "collapsed": true,
    "deletable": true,
    "editable": true
   },
   "outputs": [],
   "source": [
    "@numba.jit('float64 (float64[:], float64[:])')\n",
    "def metric_numba(x, y):\n",
    "    \"\"\"\n",
    "    standard Euclidean distance\n",
    "    \"\"\"\n",
    "    ret = x-y\n",
    "    ret *= ret\n",
    "    return np.sqrt(ret).sum()\n",
    "\n",
    "\n",
    "@numba.jit('float64 (float64[:], float64[:,:])', nopython=True)\n",
    "def inf_dist_numba(x, Y):\n",
    "    \"\"\"\n",
    "    inf distance between row x and array Y\n",
    "    \"\"\"\n",
    "    m = Y.shape[0]\n",
    "    inf = np.inf\n",
    "    \n",
    "    for i in range(m):\n",
    "        dist = metric_numba(x, Y[i])\n",
    "        if dist < inf:\n",
    "            inf = dist\n",
    "    return inf\n",
    "\n",
    "@numba.jit('float64 (float64[:,:], float64[:,:])', nopython=True)\n",
    "def hausdorff_numba(X, Y):\n",
    "    \"\"\"\n",
    "    Hausdorff distance between arrays X and Y\n",
    "    \"\"\"\n",
    "    m = X.shape[0]\n",
    "    n = Y.shape[0]\n",
    "    sup1 = -1.\n",
    "    sup2 = -1.\n",
    "    \n",
    "    for i in range(m):\n",
    "        inf1 = inf_dist_numba(X[i], Y)\n",
    "        if inf1 > sup1:\n",
    "            sup1 = inf1\n",
    "    for i in range(n):\n",
    "        inf2 = inf_dist_numba(Y[i], X)\n",
    "        if inf2 > sup2:\n",
    "            sup2 = inf2\n",
    "            \n",
    "    return max(sup1, sup2)"
   ]
  },
  {
   "cell_type": "markdown",
   "metadata": {
    "deletable": true,
    "editable": true
   },
   "source": [
    "Se solicita que realice lo siguiente:\n",
    "\n",
    "1. Escribir el equivalente __Cython__ de las tres funciones anteriores, ocupando todas las optimizaciones posibles: __Compiler directives__, __Memory Views__, __Inline Functions__, __Pure C functions__ o cualquier otra optimización que usted considere conveniente.\n",
    "2. Cree `10` arreglos $X,Y$ aleatorios, con cantidad creciente de filas, y realice análsis de tiempos de ejecuciones de las versiones __Numba__ y __Cython__ de las funciontes anteriores sobre estos arreglos.\n",
    "3. Concluya."
   ]
  },
  {
   "cell_type": "code",
   "execution_count": 3,
   "metadata": {
    "collapsed": false
   },
   "outputs": [],
   "source": [
    "%%cython -c=-fPIC -c=-fwrapv -c=-O3 -c=-fno-strict-aliasing\n",
    "#!python\n",
    "#cython: cdivision=True, boundscheck=False, nonecheck=False, wraparound=False, initializedcheck=False\n",
    "\n",
    "import numpy as np\n",
    "cimport numpy as cnp\n",
    "from libc.math cimport sqrt\n",
    "\n",
    "ctypedef cnp.float64_t float64_t\n",
    "\n",
    "cdef float64_t metric_cython(float64_t[::1] x, float64_t[::1] y):\n",
    "    \"\"\"\n",
    "    standard Euclidean distance\n",
    "    \"\"\"\n",
    "    cdef:\n",
    "        int m = x.shape[0]\n",
    "        int i = 0\n",
    "        float ret = 0\n",
    "    for i in range(m):\n",
    "        ret += (x[i]-y[i])**2\n",
    "    return sqrt(ret)\n",
    "\n",
    "cdef inline float64_t inf_dist_cython(float64_t[::1] x, float64_t[:,::1] Y):\n",
    "    \"\"\"\n",
    "    inf distance between row x and array Y\n",
    "    \"\"\"\n",
    "    cdef:\n",
    "        int rows = Y.shape[0]\n",
    "        float inf = np.inf\n",
    "        float dist = 0.0\n",
    "        int i = 0\n",
    "    \n",
    "    for i in range(rows):\n",
    "        dist = metric_cython(x, Y[i])\n",
    "        if dist < inf:\n",
    "            inf = dist\n",
    "    return inf\n",
    "\n",
    "def hausdorff_cython(float64_t[:,::1] X, float64_t[:,::1] Y):\n",
    "    \"\"\"\n",
    "    Hausdorff distance between arrays X and Y\n",
    "    \"\"\"\n",
    "    cdef:\n",
    "        int i = 0\n",
    "        int m = X.shape[0]\n",
    "        int n = Y.shape[0]\n",
    "        float sup1 = -1\n",
    "        float sup2 = -1\n",
    "        float inf1\n",
    "        float inf2\n",
    "    \n",
    "    for i in range(m):\n",
    "        inf1 = inf_dist_cython(X[i], Y)\n",
    "        if inf1 > sup1:\n",
    "            sup1 = inf1\n",
    "            \n",
    "    for i in range(n):\n",
    "        inf2 = inf_dist_cython(Y[i], X)\n",
    "        if inf2 > sup2:\n",
    "            sup2 = inf2\n",
    "    if sup1>sup2:\n",
    "        return sup1\n",
    "    return sup2"
   ]
  },
  {
   "cell_type": "code",
   "execution_count": 4,
   "metadata": {
    "collapsed": true
   },
   "outputs": [],
   "source": [
    "Xs = []\n",
    "Ys = []\n",
    "for i in range(1,11):\n",
    "    i *= i\n",
    "    X = np.random.rand(i*100*3).reshape(i*100,3)*100\n",
    "    Y = np.random.rand(i*120*3).reshape(i*120,3)*100\n",
    "    Xs.append(X)\n",
    "    Ys.append(Y)"
   ]
  },
  {
   "cell_type": "code",
   "execution_count": 5,
   "metadata": {
    "collapsed": false
   },
   "outputs": [
    {
     "name": "stdout",
     "output_type": "stream",
     "text": [
      "Experimento 1\n",
      "X:(100,3),Y:(120,3)\n",
      "Numba:\n",
      "10 loops, best of 3: 22 ms per loop\n",
      "Cython:\n",
      "1000 loops, best of 3: 1.65 ms per loop\n",
      "Experimento 2\n",
      "X:(400,3),Y:(480,3)\n",
      "Numba:\n",
      "1 loop, best of 3: 340 ms per loop\n",
      "Cython:\n",
      "10 loops, best of 3: 25.4 ms per loop\n",
      "Experimento 3\n",
      "X:(900,3),Y:(1080,3)\n",
      "Numba:\n",
      "1 loop, best of 3: 1.72 s per loop\n",
      "Cython:\n",
      "10 loops, best of 3: 128 ms per loop\n",
      "Experimento 4\n",
      "X:(1600,3),Y:(1920,3)\n",
      "Numba:\n",
      "1 loop, best of 3: 5.44 s per loop\n",
      "Cython:\n",
      "1 loop, best of 3: 406 ms per loop\n",
      "Experimento 5\n",
      "X:(2500,3),Y:(3000,3)\n",
      "Numba:\n",
      "1 loop, best of 3: 13.3 s per loop\n",
      "Cython:\n",
      "1 loop, best of 3: 990 ms per loop\n",
      "Experimento 6\n",
      "X:(3600,3),Y:(4320,3)\n",
      "Numba:\n",
      "1 loop, best of 3: 29.2 s per loop\n",
      "Cython:\n",
      "1 loop, best of 3: 2.16 s per loop\n",
      "Experimento 7\n",
      "X:(4900,3),Y:(5880,3)\n",
      "Numba:\n",
      "1 loop, best of 3: 52 s per loop\n",
      "Cython:\n",
      "1 loop, best of 3: 3.86 s per loop\n",
      "Experimento 8\n",
      "X:(6400,3),Y:(7680,3)\n",
      "Numba:\n",
      "1 loop, best of 3: 1min 29s per loop\n",
      "Cython:\n",
      "1 loop, best of 3: 6.74 s per loop\n",
      "Experimento 9\n",
      "X:(8100,3),Y:(9720,3)\n",
      "Numba:\n",
      "1 loop, best of 3: 2min 25s per loop\n",
      "Cython:\n",
      "1 loop, best of 3: 10.4 s per loop\n",
      "Experimento 10\n",
      "X:(10000,3),Y:(12000,3)\n",
      "Numba:\n",
      "1 loop, best of 3: 3min 39s per loop\n",
      "Cython:\n",
      "1 loop, best of 3: 16.3 s per loop\n"
     ]
    }
   ],
   "source": [
    "pruebas = dict()\n",
    "for i in range(10):\n",
    "    print(\"Experimento\",i+1)\n",
    "    print(\"X:({0},{1}),Y:({2},{1})\".format(100*(i+1)*(i+1),3,120*(i+1)*(i+1)))\n",
    "    Xi = Xs[i]\n",
    "    Yi = Ys[i]\n",
    "    print(\"Numba:\")\n",
    "    cls = %timeit -o hausdorff_numba(Xi, Yi)\n",
    "    print(\"Cython:\")\n",
    "    num = %timeit -o hausdorff_cython(Xi,Yi)\n",
    "    pruebas[i] = (cls, num)"
   ]
  },
  {
   "cell_type": "code",
   "execution_count": null,
   "metadata": {
    "collapsed": true
   },
   "outputs": [],
   "source": []
  }
 ],
 "metadata": {
  "kernelspec": {
   "display_name": "Python 3",
   "language": "python",
   "name": "python3"
  },
  "language_info": {
   "codemirror_mode": {
    "name": "ipython",
    "version": 3
   },
   "file_extension": ".py",
   "mimetype": "text/x-python",
   "name": "python",
   "nbconvert_exporter": "python",
   "pygments_lexer": "ipython3",
   "version": "3.6.1"
  }
 },
 "nbformat": 4,
 "nbformat_minor": 2
}
