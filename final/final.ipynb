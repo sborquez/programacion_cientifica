{
 "cells": [
  {
   "cell_type": "markdown",
   "metadata": {
    "deletable": true,
    "editable": true
   },
   "source": [
    "<h1 align=\"center\">Programación Científica en Python</h1>\n",
    "<h3 align=\"center\">Cellular Automaton: Conway's Game of Life</h3>\n",
    "<h6 align=\"center\">Sebastián Bórquez González - sborquez@alumnos.inf.utfsm.cl</h6>"
   ]
  },
  {
   "cell_type": "markdown",
   "metadata": {
    "deletable": true,
    "editable": true
   },
   "source": [
    "## Cellular Automaton: Conway's Game of Life\n",
    "\n",
    "El _Juego de la Vida_ es una aplicación de autómatas celulares (conjunto de reglas), para simular la formación de patrones en el crecimiento de colonias de organismos biológicos.\n",
    "\n",
    "\n",
    "Este juego se representa por medio de un arreglo bi-dimensional de __células vivas__ y __células muertas__. Las reglas para pasar de una generación a la otras son las siguientes (_Existen diferentes variaciones, pero estas son las más comunes_):\n",
    "\n",
    "* __Sobrepoblación__: Si una célula viva es rodeada por más de tres células vivas, muere.\n",
    "* __Estasis__: Si una célula viva es rodeada por dos o tres células vivas, sobrevive.\n",
    "* __Subpoblación__: Si una célula viva es rodeada por menos de dos células vivas, muere.\n",
    "* __Reproduction__: Si una célula muerta es rodeada por exáctamente tres células vivas, esta se vuelve una célula viva.\n",
    "\n",
    "Aquí cada célula es representada como un píxel en una grilla/arreglo bi-dimensional.\n",
    "\n",
    "Para más información visitar los siguientes links:\n",
    "* [https://en.wikipedia.org/wiki/Conway%27s_Game_of_Life](https://en.wikipedia.org/wiki/Conway%27s_Game_of_Life)\n",
    "* [https://jakevdp.github.io/blog/2013/08/07/conways-game-of-life/](https://jakevdp.github.io/blog/2013/08/07/conways-game-of-life/)\n",
    "* [https://bitstorm.org/gameoflife/](https://bitstorm.org/gameoflife/)"
   ]
  },
  {
   "cell_type": "markdown",
   "metadata": {},
   "source": [
    "# Implementación\n",
    "\n",
    "El mapa consiste de un arreglo bidimensional de booleans con bordes. El valor de cada celda representa si la célula se encuentra viva o muerta.\n",
    "\n",
    "<img src=\"./mapa.png\", width=360, height=300>\n",
    "\n",
    "Para determinar el siguiente estado, a cada celda se le calcula su siguiente estado utilizando una **regla**.\n",
    "\n",
    "Una **regla** consiste de un arreglo bidimensional de tamaño 3x3, y un conjunto de valores. Realizaremos convolución y si el resultado se encuentra en el conjunto de valores, esta se considera viva para la siguiente iteración, en caso contrario, es una célula muerta.\n",
    "\n",
    "<img src=\"./regla.png\", width=360, height=300>\n",
    "\n"
   ]
  },
  {
   "cell_type": "code",
   "execution_count": 1,
   "metadata": {
    "collapsed": false,
    "deletable": true,
    "editable": true
   },
   "outputs": [],
   "source": [
    "from ipywidgets import interact, fixed, IntSlider\n",
    "\n",
    "%matplotlib inline\n",
    "%load_ext line_profiler\n",
    "%load_ext memory_profiler"
   ]
  },
  {
   "cell_type": "code",
   "execution_count": 2,
   "metadata": {
    "collapsed": false,
    "deletable": true,
    "editable": true,
    "scrolled": true
   },
   "outputs": [
    {
     "name": "stdout",
     "output_type": "stream",
     "text": [
      "Overwriting game_of_life.py\n"
     ]
    }
   ],
   "source": [
    "%%writefile game_of_life.py\n",
    "import numba\n",
    "import numpy as np\n",
    "import matplotlib.pyplot as plt\n",
    "\n",
    "def init_universe(rows, cols, cells):\n",
    "    universe = np.zeros((rows+2, cols+2), bool)\n",
    "    universe[cells[0],cells[1]] = True\n",
    "    return universe\n",
    "\n",
    "def init_universe_random(rows, cols, cells):\n",
    "    universe = np.zeros((rows+2, cols+2), bool)\n",
    "    r = np.random.randint(1,rows+1,cells)\n",
    "    c = np.random.randint(1,cols+1,cells)\n",
    "    universe[r,c] = True\n",
    "    return universe\n",
    "\n",
    "def show(universe):\n",
    "    rows,cols = universe.shape\n",
    "    plt.figure(figsize=(10,10))\n",
    "    plt.imshow(universe[1:rows-1,1:cols-1], cmap='bwr')\n",
    "    plt.axis('off')\n",
    "    plt.grid()\n",
    "    plt.show()\n",
    "\n",
    "def nn_step(universe, new_universe, rule):\n",
    "    rows, cols = universe.shape\n",
    "    for i in range(1,rows-1):\n",
    "        for j in range(1,cols-1):\n",
    "            new_universe[i,j] = np.sum(universe[i-1:i+2,j-1:j+2] * rule)\n",
    "    \n",
    "    return new_universe\n",
    "\n",
    "\n",
    "def nn_evolve(universe, rule, num, t):\n",
    "    t0 = 0\n",
    "    rows, cols = universe.shape\n",
    "    new_universe = np.zeros((rows,cols), int)\n",
    "    while t0 < t:\n",
    "        new_universe = step(universe, new_universe, rule)\n",
    "        universe = np.zeros((rows,cols), bool)\n",
    "        for value in num:\n",
    "            universe = np.logical_or(new_universe == value, universe)\n",
    "        t0 += 1\n",
    "    return universe \n",
    "\n",
    "@numba.jit('int64[:,:] (boolean[:,:], int64[:,:], int64[:,:])', nopython=True)\n",
    "def step(universe, new_universe, rule):\n",
    "    rows, cols = universe.shape\n",
    "    for i in range(1,rows-1):\n",
    "        for j in range(1,cols-1):\n",
    "            new_universe[i,j] = np.sum(universe[i-1:i+2,j-1:j+2] * rule)\n",
    "    \n",
    "    return new_universe\n",
    "\n",
    "@numba.jit('boolean[:,:] (boolean[:,:], int64[:,:], int64[:,:], int64)')\n",
    "def evolve(universe, rule, num, t):\n",
    "    t0 = 0\n",
    "    rows, cols = universe.shape\n",
    "    new_universe = np.zeros((rows,cols), int)\n",
    "    while t0 < t:\n",
    "        new_universe = step(universe, new_universe, rule)\n",
    "        universe = np.zeros((rows,cols), bool)\n",
    "        for value in num:\n",
    "            universe = np.logical_or(new_universe == value, universe)\n",
    "        t0 += 1\n",
    "    return universe \n",
    "\n",
    "rules = {\n",
    "    \"Standard\" : (np.array([[1,1,1],[1,-9,1],[1,1,1]], int), np.array([3,-6,-7], int)),\n",
    "    \"Diagonales\" : (np.array([[1,0,1],[0,-9,0],[1,0,1]], int), np.array([3,-6,-7], int)),\n",
    "    \"Cruz\" : (np.array([[0,1,0],[1,-9,1],[0,1,0]], int), np.array([3,-6,-7], int)),\n",
    "    \"Fast Grow\": (np.array([[1,1,1],[1,-9,1],[1,1,1]], int), np.array([3,4,5,6,7,-5,-6,-7,-8], int)),\n",
    "    \"Strong\": (np.array([[1,1,1],[1,-9,1],[1,1,1]], int), np.array([3,4,-5,-6,-7,-8], int)),\n",
    "    \"xD\": (np.array([[1,1,1],[1,-9,1],[1,1,1]], int), np.array([1,8, -1], int))\n",
    "}"
   ]
  },
  {
   "cell_type": "code",
   "execution_count": 3,
   "metadata": {
    "collapsed": true
   },
   "outputs": [],
   "source": [
    "from game_of_life import *"
   ]
  },
  {
   "cell_type": "markdown",
   "metadata": {},
   "source": [
    "# Profiling"
   ]
  },
  {
   "cell_type": "code",
   "execution_count": 4,
   "metadata": {
    "collapsed": false
   },
   "outputs": [],
   "source": [
    "universe = init_universe_random(250,250,2000)\n",
    "regla = rules[\"Standard\"][0]\n",
    "valores = rules[\"Standard\"][1]"
   ]
  },
  {
   "cell_type": "markdown",
   "metadata": {},
   "source": [
    "### timeit para diferentes iteracione\n",
    "\n",
    "#### Sin numba"
   ]
  },
  {
   "cell_type": "code",
   "execution_count": null,
   "metadata": {
    "collapsed": false
   },
   "outputs": [],
   "source": [
    "%timeit nn_evolve(universe, regla, valores, 10)"
   ]
  },
  {
   "cell_type": "code",
   "execution_count": null,
   "metadata": {
    "collapsed": false
   },
   "outputs": [],
   "source": [
    "%timeit nn_evolve(universe, regla, valores, 500)"
   ]
  },
  {
   "cell_type": "markdown",
   "metadata": {},
   "source": [
    "#### Con numba"
   ]
  },
  {
   "cell_type": "code",
   "execution_count": null,
   "metadata": {
    "collapsed": false
   },
   "outputs": [],
   "source": [
    "%timeit evolve(universe, regla, valores, 10)"
   ]
  },
  {
   "cell_type": "code",
   "execution_count": null,
   "metadata": {
    "collapsed": true
   },
   "outputs": [],
   "source": [
    "%timeit evolve(universe, regla, valores, 500)"
   ]
  },
  {
   "cell_type": "code",
   "execution_count": null,
   "metadata": {
    "collapsed": false
   },
   "outputs": [],
   "source": [
    "%timeit evolve(universe, regla, valores, 1000)"
   ]
  },
  {
   "cell_type": "markdown",
   "metadata": {},
   "source": [
    "### Line Profiling\n"
   ]
  },
  {
   "cell_type": "code",
   "execution_count": null,
   "metadata": {
    "collapsed": false
   },
   "outputs": [],
   "source": [
    "%lprun -T lprof0 -f nn_evolve nn_evolve(universe, regla, valores, 100)"
   ]
  },
  {
   "cell_type": "code",
   "execution_count": null,
   "metadata": {
    "collapsed": false,
    "deletable": true,
    "editable": true
   },
   "outputs": [],
   "source": [
    "print(open('lprof0', 'r').read())"
   ]
  },
  {
   "cell_type": "code",
   "execution_count": null,
   "metadata": {
    "collapsed": false,
    "deletable": true,
    "editable": true
   },
   "outputs": [],
   "source": [
    "%lprun -T lprof1 -f evolve evolve(universe, regla, valores, 100)"
   ]
  },
  {
   "cell_type": "code",
   "execution_count": null,
   "metadata": {
    "collapsed": false
   },
   "outputs": [],
   "source": [
    "print(open('lprof1', 'r').read())"
   ]
  },
  {
   "cell_type": "markdown",
   "metadata": {},
   "source": [
    "### Memory Profiling"
   ]
  },
  {
   "cell_type": "code",
   "execution_count": null,
   "metadata": {
    "collapsed": true
   },
   "outputs": [],
   "source": [
    "%mprun -T mprof1 -f evolve evolve(universe, regla, valores, 100)"
   ]
  },
  {
   "cell_type": "code",
   "execution_count": null,
   "metadata": {
    "collapsed": true
   },
   "outputs": [],
   "source": [
    "print(open('mprof1', 'r').read())"
   ]
  },
  {
   "cell_type": "markdown",
   "metadata": {
    "collapsed": true,
    "deletable": true,
    "editable": true
   },
   "source": [
    "# Visualización\n"
   ]
  },
  {
   "cell_type": "code",
   "execution_count": null,
   "metadata": {
    "collapsed": false,
    "deletable": true,
    "editable": true
   },
   "outputs": [],
   "source": [
    "universe = init_universe_random(100,100,5000)\n",
    "\n",
    "@interact(universe=fixed(universe), rule=rules, t=IntSlider(min=0,max=500,step=1,value=0))\n",
    "def evolution(universe, rule, t):\n",
    "    show(evolve(universe, rule[0], rule[1], t))\n"
   ]
  },
  {
   "cell_type": "code",
   "execution_count": null,
   "metadata": {
    "collapsed": true
   },
   "outputs": [],
   "source": []
  }
 ],
 "metadata": {
  "kernelspec": {
   "display_name": "Python 3",
   "language": "python",
   "name": "python3"
  },
  "language_info": {
   "codemirror_mode": {
    "name": "ipython",
    "version": 3
   },
   "file_extension": ".py",
   "mimetype": "text/x-python",
   "name": "python",
   "nbconvert_exporter": "python",
   "pygments_lexer": "ipython3",
   "version": "3.6.1"
  }
 },
 "nbformat": 4,
 "nbformat_minor": 2
}
