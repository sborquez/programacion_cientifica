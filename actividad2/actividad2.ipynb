{
 "cells": [
  {
   "cell_type": "code",
   "execution_count": 2,
   "metadata": {
    "collapsed": true,
    "deletable": true,
    "editable": true
   },
   "outputs": [],
   "source": [
    "import numpy as np\n",
    "import matplotlib.pyplot as plt\n",
    "from mpl_toolkits.axes_grid1 import make_axes_locatable\n",
    "\n",
    "def image_plot(data, title='FITS image'):\n",
    "    plt.figure(figsize=(10,10))\n",
    "    im = plt.imshow(data, cmap=plt.cm.afmhot, interpolation=None)\n",
    "    plt.title(title)\n",
    "    #plt.axis('off')\n",
    "    divider = make_axes_locatable(plt.gca())\n",
    "    cax = divider.append_axes(\"right\", size=\"5%\", pad=0.05)\n",
    "    plt.colorbar(im, cax=cax)\n",
    "    plt.show()"
   ]
  },
  {
   "cell_type": "code",
   "execution_count": 3,
   "metadata": {
    "collapsed": true,
    "deletable": true,
    "editable": true
   },
   "outputs": [],
   "source": [
    "# first we load the data:\n",
    "data = np.load(\"orion.npy\")"
   ]
  },
  {
   "cell_type": "markdown",
   "metadata": {
    "deletable": true,
    "editable": true
   },
   "source": [
    "### Paso 1) \n",
    "\n",
    "Calcular el `RMS` de la imagen entregada. \n",
    "\n",
    "$$RMS = \\sqrt{\\frac{1}{m\\ n} \\sum_{i=1}^m \\sum_{j=1}^n \\texttt{data[i,j]}^2}$$\n",
    "\n",
    "__Nota:__ Computarlo de forma vectorizada."
   ]
  },
  {
   "cell_type": "code",
   "execution_count": 115,
   "metadata": {
    "collapsed": true,
    "deletable": true,
    "editable": true
   },
   "outputs": [],
   "source": [
    "def RMS(data):\n",
    "    return (np.dot(data.ravel(), data.ravel())/data.size)**0.5   "
   ]
  },
  {
   "cell_type": "markdown",
   "metadata": {
    "deletable": true,
    "editable": true
   },
   "source": [
    "### Paso 2) \n",
    "\n",
    "Genere otro arreglo donde los pixeles con intensidades por debajo del `RMS` son considerados como _no usables_ (con valor `=0`).  Mostrar tal imagen resultante."
   ]
  },
  {
   "cell_type": "code",
   "execution_count": 116,
   "metadata": {
    "collapsed": false,
    "deletable": true,
    "editable": true
   },
   "outputs": [
    {
     "data": {
      "image/png": "[encoded data removed]",
      "text/plain": [
       "<matplotlib.figure.Figure at 0x7fd73fffa898>"
      ]
     },
     "metadata": {},
     "output_type": "display_data"
    }
   ],
   "source": [
    "new = np.where(data > RMS(data), data, 0)\n",
    "image_plot(new)"
   ]
  },
  {
   "cell_type": "markdown",
   "metadata": {
    "deletable": true,
    "editable": true
   },
   "source": [
    "### Paso 3)\n",
    "\n",
    "Crear la función\n",
    "```python\n",
    "def apply_filter(data, mask, kernel_filter):\n",
    "    ...\n",
    "    return None\n",
    "```\n",
    "Que reciba el arreglo de datos completo `data`, el arreglo booleano con los __pixeles usables__ `mask` (sobre el RMS), y kernel de filtro de `3x3`. La función debe convolucionar `filter` sobre la imagen `data`, sólo en los pixeles usables. La función no debe retornar nada, pero debe modificar `data` de forma _in place_ (sin generar copias de el mismo).\n",
    "\n",
    "Finalmente mostrar el resultado de convolucionar tal filtro en `data` (mostrar imágen).\n",
    "\n",
    "__Nota:__ Debe usar siempre que pueda _instrucciones vectorizadas_ y operaciones _inplace_.\n",
    "\n",
    "__Image convolution:__ https://en.wikipedia.org/wiki/Kernel_(image_processing)#Convolution"
   ]
  },
  {
   "cell_type": "code",
   "execution_count": 6,
   "metadata": {
    "collapsed": false,
    "deletable": true,
    "editable": true
   },
   "outputs": [],
   "source": [
    "# Gaussian blur filter: Ocupar este filtro!\n",
    "kernel_filter = np.array([[1,2,1], [2,4,2], [1,2,1]]) * 1./16. "
   ]
  },
  {
   "cell_type": "code",
   "execution_count": 119,
   "metadata": {
    "collapsed": true,
    "deletable": true,
    "editable": true
   },
   "outputs": [],
   "source": [
    "def id(x):\n",
    "    # This function returns the memory\n",
    "    # block address of an array.\n",
    "    return x.__array_interface__['data'][0]"
   ]
  },
  {
   "cell_type": "code",
   "execution_count": 114,
   "metadata": {
    "collapsed": false,
    "deletable": true,
    "editable": true
   },
   "outputs": [
    {
     "ename": "SyntaxError",
     "evalue": "invalid syntax (<ipython-input-114-6d788156f426>, line 4)",
     "output_type": "error",
     "traceback": [
      "\u001b[0;36m  File \u001b[0;32m\"<ipython-input-114-6d788156f426>\"\u001b[0;36m, line \u001b[0;32m4\u001b[0m\n\u001b[0;31m    return np.where(mask, , data)\u001b[0m\n\u001b[0m                          ^\u001b[0m\n\u001b[0;31mSyntaxError\u001b[0m\u001b[0;31m:\u001b[0m invalid syntax\n"
     ]
    }
   ],
   "source": [
    "def apply_filter(data, mask, kernel_filter):\n",
    "    kernel_filter.ravel()[::-1]\n",
    "\n",
    "image_plot(apply_filter(data > RMS(data), , kernel_filter))"
   ]
  },
  {
   "cell_type": "code",
   "execution_count": 104,
   "metadata": {
    "collapsed": false,
    "deletable": true,
    "editable": true,
    "scrolled": true
   },
   "outputs": [
    {
     "name": "stdout",
     "output_type": "stream",
     "text": [
      "20\n"
     ]
    }
   ],
   "source": [
    "a=np.array([1,2,3,4])\n",
    "print(np.dot(a[::-1],a))"
   ]
  },
  {
   "cell_type": "code",
   "execution_count": 12,
   "metadata": {
    "collapsed": false,
    "deletable": true,
    "editable": true
   },
   "outputs": [
    {
     "name": "stdout",
     "output_type": "stream",
     "text": [
      "[ 0.0625  0.125   0.0625  0.125   0.25    0.125   0.0625  0.125   0.0625]\n"
     ]
    },
    {
     "data": {
      "text/plain": [
       "7.0"
      ]
     },
     "execution_count": 12,
     "metadata": {},
     "output_type": "execute_result"
    }
   ],
   "source": [
    "b=np.array([[ 1, 2, 3, 4],\n",
    "            [ 5, 6, 7, 8],\n",
    "            [ 9,10,11,12],\n",
    "            [13,14,15,16]])\n",
    "\n",
    "m=np.array([[ 0, 0, 0, 0],\n",
    "            [ 0, 0, 1, 0],\n",
    "            [ 0, 1, 0, 0],\n",
    "            [ 0, 0, 0, 0]])\n",
    "print(kernel_filter.ravel()[::-1])\n",
    "np.dot(b[0:3,1:4].ravel(), kernel_filter.ravel()[::-1])"
   ]
  },
  {
   "cell_type": "code",
   "execution_count": null,
   "metadata": {
    "collapsed": true,
    "deletable": true,
    "editable": true
   },
   "outputs": [],
   "source": [
    "c = np.array([])"
   ]
  }
 ],
 "metadata": {
  "kernelspec": {
   "display_name": "Python 3",
   "language": "python",
   "name": "python3"
  },
  "language_info": {
   "codemirror_mode": {
    "name": "ipython",
    "version": 3
   },
   "file_extension": ".py",
   "mimetype": "text/x-python",
   "name": "python",
   "nbconvert_exporter": "python",
   "pygments_lexer": "ipython3",
   "version": "3.6.1"
  }
 },
 "nbformat": 4,
 "nbformat_minor": 2
}
