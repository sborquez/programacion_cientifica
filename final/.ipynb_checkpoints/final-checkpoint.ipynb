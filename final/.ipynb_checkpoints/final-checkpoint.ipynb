{
 "cells": [
  {
   "cell_type": "markdown",
   "metadata": {
    "deletable": true,
    "editable": true
   },
   "source": [
    "<h1 align=\"center\">Programación Científica en Python</h1>\n",
    "<h3 align=\"center\">Cellular Automaton: Conway's Game of Life</h3>\n",
    "<h6 align=\"center\">Sebastián Bórquez González - sborquez@alumnos.inf.utfsm.cl</h6>"
   ]
  },
  {
   "cell_type": "markdown",
   "metadata": {
    "deletable": true,
    "editable": true
   },
   "source": [
    "## Cellular Automaton: Conway's Game of Life\n",
    "\n",
    "El _Juego de la Vida_ es una aplicación de autómatas celulares (conjunto de reglas), para simular la formación de patrones en el crecimiento de colonias de organismos biológicos.\n",
    "\n",
    "\n",
    "Este juego se representa por medio de un arreglo bi-dimensional de __células vivas__ y __células muertas__. Las reglas para pasar de una generación a la otras son las siguientes (_Existen diferentes variaciones, pero estas son las más comunes_):\n",
    "\n",
    "* __Sobrepoblación__: Si una célula viva es rodeada por más de tres células vivas, muere.\n",
    "* __Estasis__: Si una célula viva es rodeada por dos o tres células vivas, sobrevive.\n",
    "* __Subpoblación__: Si una célula viva es rodeada por menos de dos células vivas, muere.\n",
    "* __Reproduction__: Si una célula muerta es rodeada por exáctamente tres células vivas, esta se vuelve una célula viva.\n",
    "\n",
    "Aquí cada célula es representada como un píxel en una grilla/arreglo bi-dimensional.\n",
    "\n",
    "Para más información visitar los siguientes links:\n",
    "* [https://en.wikipedia.org/wiki/Conway%27s_Game_of_Life](https://en.wikipedia.org/wiki/Conway%27s_Game_of_Life)\n",
    "* [https://jakevdp.github.io/blog/2013/08/07/conways-game-of-life/](https://jakevdp.github.io/blog/2013/08/07/conways-game-of-life/)\n",
    "* [https://bitstorm.org/gameoflife/](https://bitstorm.org/gameoflife/)"
   ]
  },
  {
   "cell_type": "markdown",
   "metadata": {},
   "source": [
    "# Implementación\n",
    "\n",
    "El mapa consiste de un arreglo bidimensional de booleans con bordes. El valor de cada celda representa si la célula se encuentra viva o muerta.\n",
    "\n",
    "<img src=\"./mapa.png\", width=360, height=300>\n",
    "\n",
    "Para determinar el siguiente estado, a cada celda se le calcula su siguiente estado utilizando una **regla**.\n",
    "\n",
    "Una **regla** consiste de un arreglo bidimensional de tamaño 3x3, y un conjunto de valores. Realizaremos convolución y si el resultado se encuentra en el conjunto de valores, esta se considera viva para la siguiente iteración, en caso contrario, es una célula muerta.\n",
    "\n",
    "<img src=\"./regla.png\", width=360, height=300>\n",
    "\n"
   ]
  },
  {
   "cell_type": "code",
   "execution_count": 1,
   "metadata": {
    "collapsed": false,
    "deletable": true,
    "editable": true
   },
   "outputs": [],
   "source": [
    "from ipywidgets import interact, fixed, IntSlider\n",
    "\n",
    "%matplotlib inline\n",
    "%load_ext line_profiler\n",
    "%load_ext memory_profiler"
   ]
  },
  {
   "cell_type": "code",
   "execution_count": 2,
   "metadata": {
    "collapsed": false,
    "deletable": true,
    "editable": true,
    "scrolled": true
   },
   "outputs": [
    {
     "name": "stdout",
     "output_type": "stream",
     "text": [
      "Overwriting game_of_life.py\n"
     ]
    }
   ],
   "source": [
    "%%writefile game_of_life.py\n",
    "import numba\n",
    "import numpy as np\n",
    "import matplotlib.pyplot as plt\n",
    "\n",
    "def init_universe(rows, cols, cells):\n",
    "    universe = np.zeros((rows+2, cols+2), bool)\n",
    "    universe[cells[0],cells[1]] = True\n",
    "    return universe\n",
    "\n",
    "def init_universe_random(rows, cols, cells):\n",
    "    universe = np.zeros((rows+2, cols+2), bool)\n",
    "    r = np.random.randint(1,rows+1,cells)\n",
    "    c = np.random.randint(1,cols+1,cells)\n",
    "    universe[r,c] = True\n",
    "    return universe\n",
    "\n",
    "def show(universe):\n",
    "    rows,cols = universe.shape\n",
    "    plt.figure(figsize=(10,10))\n",
    "    plt.imshow(universe[1:rows-1,1:cols-1], cmap='bwr')\n",
    "    plt.axis('off')\n",
    "    plt.grid()\n",
    "    plt.show()\n",
    "\n",
    "def nn_step(universe, new_universe, rule):\n",
    "    rows, cols = universe.shape\n",
    "    for i in range(1,rows-1):\n",
    "        for j in range(1,cols-1):\n",
    "            new_universe[i,j] = np.sum(universe[i-1:i+2,j-1:j+2] * rule)\n",
    "    \n",
    "    return new_universe\n",
    "\n",
    "\n",
    "def nn_evolve(universe, rule, num, t):\n",
    "    t0 = 0\n",
    "    rows, cols = universe.shape\n",
    "    new_universe = np.zeros((rows,cols), int)\n",
    "    while t0 < t:\n",
    "        new_universe = nn_step(universe, new_universe, rule)\n",
    "        universe = np.zeros((rows,cols), bool)\n",
    "        for value in num:\n",
    "            universe = np.logical_or(new_universe == value, universe)\n",
    "        t0 += 1\n",
    "    return universe \n",
    "\n",
    "@numba.jit('int64[:,:] (boolean[:,:], int64[:,:], int64[:,:])', nopython=True)\n",
    "def step(universe, new_universe, rule):\n",
    "    rows, cols = universe.shape\n",
    "    for i in range(1,rows-1):\n",
    "        for j in range(1,cols-1):\n",
    "            new_universe[i,j] = np.sum(universe[i-1:i+2,j-1:j+2] * rule)\n",
    "    \n",
    "    return new_universe\n",
    "\n",
    "@numba.jit('boolean[:,:] (boolean[:,:], int64[:,:], int64[:,:], int64)')\n",
    "def evolve(universe, rule, num, t):\n",
    "    t0 = 0\n",
    "    rows, cols = universe.shape\n",
    "    new_universe = np.zeros((rows,cols), int)\n",
    "    while t0 < t:\n",
    "        new_universe = step(universe, new_universe, rule)\n",
    "        universe = np.zeros((rows,cols), bool)\n",
    "        for value in num:\n",
    "            universe = np.logical_or(new_universe == value, universe)\n",
    "        t0 += 1\n",
    "    return universe \n",
    "\n",
    "def n_evolve(universe, rule, num, t):\n",
    "    t0 = 0\n",
    "    rows, cols = universe.shape\n",
    "    new_universe = np.zeros((rows,cols), int)\n",
    "    while t0 < t:\n",
    "        new_universe = step(universe, new_universe, rule)\n",
    "        universe = np.zeros((rows,cols), bool)\n",
    "        for value in num:\n",
    "            universe = np.logical_or(new_universe == value, universe)\n",
    "        t0 += 1\n",
    "    return universe\n",
    "\n",
    "rules = {\n",
    "    \"Standard\" : (np.array([[1,1,1],[1,-9,1],[1,1,1]], int), np.array([3,-6,-7], int)),\n",
    "    \"Diagonales\" : (np.array([[1,0,1],[0,-9,0],[1,0,1]], int), np.array([3,-6,-7], int)),\n",
    "    \"Cruz\" : (np.array([[0,1,0],[1,-9,1],[0,1,0]], int), np.array([3,-6,-7], int)),\n",
    "    \"Fast Grow\": (np.array([[1,1,1],[1,-9,1],[1,1,1]], int), np.array([3,4,5,6,7,-5,-6,-7,-8], int)),\n",
    "    \"Strong\": (np.array([[1,1,1],[1,-9,1],[1,1,1]], int), np.array([3,4,-5,-6,-7,-8], int)),\n",
    "    \"xD\": (np.array([[1,1,1],[1,-9,1],[1,1,1]], int), np.array([1,8, -1], int))\n",
    "}"
   ]
  },
  {
   "cell_type": "code",
   "execution_count": 3,
   "metadata": {
    "collapsed": true
   },
   "outputs": [],
   "source": [
    "from game_of_life import *"
   ]
  },
  {
   "cell_type": "markdown",
   "metadata": {},
   "source": [
    "# Profiling"
   ]
  },
  {
   "cell_type": "code",
   "execution_count": 4,
   "metadata": {
    "collapsed": false
   },
   "outputs": [],
   "source": [
    "universe = init_universe_random(250,250,2000)\n",
    "regla = rules[\"Standard\"][0]\n",
    "valores = rules[\"Standard\"][1]"
   ]
  },
  {
   "cell_type": "markdown",
   "metadata": {},
   "source": [
    "### timeit para diferentes iteracione\n",
    "\n",
    "#### Sin numba"
   ]
  },
  {
   "cell_type": "code",
   "execution_count": null,
   "metadata": {
    "collapsed": false
   },
   "outputs": [],
   "source": [
    "%timeit nn_evolve(universe, regla, valores, 50)"
   ]
  },
  {
   "cell_type": "code",
   "execution_count": null,
   "metadata": {
    "collapsed": false
   },
   "outputs": [],
   "source": [
    "%timeit nn_evolve(universe, regla, valores, 500)"
   ]
  },
  {
   "cell_type": "markdown",
   "metadata": {},
   "source": [
    "#### Con numba"
   ]
  },
  {
   "cell_type": "code",
   "execution_count": 15,
   "metadata": {
    "collapsed": false
   },
   "outputs": [
    {
     "name": "stdout",
     "output_type": "stream",
     "text": [
      "1 loop, best of 3: 1.77 s per loop\n"
     ]
    }
   ],
   "source": [
    "%timeit evolve(universe, regla, valores, 50)"
   ]
  },
  {
   "cell_type": "code",
   "execution_count": null,
   "metadata": {
    "collapsed": false
   },
   "outputs": [],
   "source": [
    "%timeit evolve(universe, regla, valores, 500)"
   ]
  },
  {
   "cell_type": "code",
   "execution_count": null,
   "metadata": {
    "collapsed": false
   },
   "outputs": [],
   "source": [
    "%timeit evolve(universe, regla, valores, 1000)"
   ]
  },
  {
   "cell_type": "markdown",
   "metadata": {},
   "source": [
    "### Line Profiling\n"
   ]
  },
  {
   "cell_type": "code",
   "execution_count": 5,
   "metadata": {
    "collapsed": false
   },
   "outputs": [
    {
     "name": "stdout",
     "output_type": "stream",
     "text": [
      "\n",
      "*** Profile printout saved to text file 'lprof0'. \n"
     ]
    }
   ],
   "source": [
    "%lprun -T lprof0 -f nn_evolve nn_evolve(universe, regla, valores, 50)"
   ]
  },
  {
   "cell_type": "code",
   "execution_count": 7,
   "metadata": {
    "collapsed": false,
    "deletable": true,
    "editable": true
   },
   "outputs": [
    {
     "name": "stdout",
     "output_type": "stream",
     "text": [
      "Timer unit: 1e-06 s\n",
      "\n",
      "Total time: 143.826 s\n",
      "File: /home/azuka/github/programacion_cientifica/final/game_of_life.py\n",
      "Function: nn_evolve at line 34\n",
      "\n",
      "Line #      Hits         Time  Per Hit   % Time  Line Contents\n",
      "==============================================================\n",
      "    34                                           def nn_evolve(universe, rule, num, t):\n",
      "    35         1            5      5.0      0.0      t0 = 0\n",
      "    36         1            7      7.0      0.0      rows, cols = universe.shape\n",
      "    37         1          164    164.0      0.0      new_universe = np.zeros((rows,cols), int)\n",
      "    38        51          129      2.5      0.0      while t0 < t:\n",
      "    39        50    143784939 2875698.8    100.0          new_universe = nn_step(universe, new_universe, rule)\n",
      "    40        50         1678     33.6      0.0          universe = np.zeros((rows,cols), bool)\n",
      "    41       200         1978      9.9      0.0          for value in num:\n",
      "    42       150        36565    243.8      0.0              universe = np.logical_or(new_universe == value, universe)\n",
      "    43        50          225      4.5      0.0          t0 += 1\n",
      "    44         1            3      3.0      0.0      return universe\n"
     ]
    }
   ],
   "source": [
    "print(open('lprof0', 'r').read())"
   ]
  },
  {
   "cell_type": "code",
   "execution_count": 6,
   "metadata": {
    "collapsed": false,
    "deletable": true,
    "editable": true
   },
   "outputs": [
    {
     "name": "stdout",
     "output_type": "stream",
     "text": [
      "\n",
      "*** Profile printout saved to text file 'lprof1'. \n"
     ]
    }
   ],
   "source": [
    "%lprun -T lprof1 -f n_evolve n_evolve(universe, regla, valores, 50)"
   ]
  },
  {
   "cell_type": "code",
   "execution_count": 8,
   "metadata": {
    "collapsed": false
   },
   "outputs": [
    {
     "name": "stdout",
     "output_type": "stream",
     "text": [
      "Timer unit: 1e-06 s\n",
      "\n",
      "Total time: 2.10619 s\n",
      "File: /home/azuka/github/programacion_cientifica/final/game_of_life.py\n",
      "Function: n_evolve at line 68\n",
      "\n",
      "Line #      Hits         Time  Per Hit   % Time  Line Contents\n",
      "==============================================================\n",
      "    68                                           def n_evolve(universe, rule, num, t):\n",
      "    69         1            4      4.0      0.0      t0 = 0\n",
      "    70         1            6      6.0      0.0      rows, cols = universe.shape\n",
      "    71         1          106    106.0      0.0      new_universe = np.zeros((rows,cols), int)\n",
      "    72        51          147      2.9      0.0      while t0 < t:\n",
      "    73        50      2055309  41106.2     97.6          new_universe = step(universe, new_universe, rule)\n",
      "    74        50         4310     86.2      0.2          universe = np.zeros((rows,cols), bool)\n",
      "    75       200         2269     11.3      0.1          for value in num:\n",
      "    76       150        43795    292.0      2.1              universe = np.logical_or(new_universe == value, universe)\n",
      "    77        50          242      4.8      0.0          t0 += 1\n",
      "    78         1            3      3.0      0.0      return universe\n"
     ]
    }
   ],
   "source": [
    "print(open('lprof1', 'r').read())"
   ]
  },
  {
   "cell_type": "code",
   "execution_count": 9,
   "metadata": {
    "collapsed": false
   },
   "outputs": [
    {
     "name": "stdout",
     "output_type": "stream",
     "text": [
      "\n",
      "*** Profile printout saved to text file 'lprof2'. \n"
     ]
    }
   ],
   "source": [
    "%lprun -T lprof2 -f evolve evolve(universe, regla, valores, 50)"
   ]
  },
  {
   "cell_type": "code",
   "execution_count": 10,
   "metadata": {
    "collapsed": false
   },
   "outputs": [
    {
     "name": "stdout",
     "output_type": "stream",
     "text": [
      "Timer unit: 1e-06 s\n",
      "\n",
      "Total time: 0 s\n",
      "File: /home/azuka/github/programacion_cientifica/final/game_of_life.py\n",
      "Function: evolve at line 55\n",
      "\n",
      "Line #      Hits         Time  Per Hit   % Time  Line Contents\n",
      "==============================================================\n",
      "    55                                           @numba.jit('boolean[:,:] (boolean[:,:], int64[:,:], int64[:,:], int64)')\n",
      "    56                                           def evolve(universe, rule, num, t):\n",
      "    57                                               t0 = 0\n",
      "    58                                               rows, cols = universe.shape\n",
      "    59                                               new_universe = np.zeros((rows,cols), int)\n",
      "    60                                               while t0 < t:\n",
      "    61                                                   new_universe = step(universe, new_universe, rule)\n",
      "    62                                                   universe = np.zeros((rows,cols), bool)\n",
      "    63                                                   for value in num:\n",
      "    64                                                       universe = np.logical_or(new_universe == value, universe)\n",
      "    65                                                   t0 += 1\n",
      "    66                                               return universe\n"
     ]
    }
   ],
   "source": [
    "print(open('lprof2', 'r').read())"
   ]
  },
  {
   "cell_type": "markdown",
   "metadata": {},
   "source": [
    "### Memory Profiling"
   ]
  },
  {
   "cell_type": "code",
   "execution_count": 13,
   "metadata": {
    "collapsed": false
   },
   "outputs": [
    {
     "name": "stdout",
     "output_type": "stream",
     "text": [
      "\n",
      "\n",
      "*** Profile printout saved to text file mprof1. \n"
     ]
    }
   ],
   "source": [
    "%mprun -T mprof1 -f n_evolve n_evolve(universe, regla, valores, 10)"
   ]
  },
  {
   "cell_type": "code",
   "execution_count": 14,
   "metadata": {
    "collapsed": false
   },
   "outputs": [
    {
     "name": "stdout",
     "output_type": "stream",
     "text": [
      "Filename: /home/azuka/github/programacion_cientifica/final/game_of_life.py\n",
      "\n",
      "Line #    Mem usage    Increment   Line Contents\n",
      "================================================\n",
      "    68    115.0 MiB      0.0 MiB   def n_evolve(universe, rule, num, t):\n",
      "    69    115.0 MiB      0.0 MiB       t0 = 0\n",
      "    70    115.0 MiB      0.0 MiB       rows, cols = universe.shape\n",
      "    71    115.0 MiB      0.0 MiB       new_universe = np.zeros((rows,cols), int)\n",
      "    72    115.0 MiB      0.0 MiB       while t0 < t:\n",
      "    73    115.0 MiB      0.0 MiB           new_universe = step(universe, new_universe, rule)\n",
      "    74    115.0 MiB      0.0 MiB           universe = np.zeros((rows,cols), bool)\n",
      "    75    115.0 MiB      0.0 MiB           for value in num:\n",
      "    76    115.0 MiB      0.0 MiB               universe = np.logical_or(new_universe == value, universe)\n",
      "    77    115.0 MiB      0.0 MiB           t0 += 1\n",
      "    78    115.0 MiB      0.0 MiB       return universe\n"
     ]
    }
   ],
   "source": [
    "print(open('mprof1', 'r').read())"
   ]
  },
  {
   "cell_type": "markdown",
   "metadata": {
    "collapsed": true,
    "deletable": true,
    "editable": true
   },
   "source": [
    "# Visualización\n"
   ]
  },
  {
   "cell_type": "code",
   "execution_count": null,
   "metadata": {
    "collapsed": false,
    "deletable": true,
    "editable": true
   },
   "outputs": [],
   "source": [
    "universe = init_universe_random(100,100,5000)\n",
    "\n",
    "@interact(universe=fixed(universe), rule=rules, t=IntSlider(min=0,max=500,step=1,value=0))\n",
    "def evolution(universe, rule, t):\n",
    "    show(evolve(universe, rule[0], rule[1], t))\n"
   ]
  },
  {
   "cell_type": "code",
   "execution_count": null,
   "metadata": {
    "collapsed": true
   },
   "outputs": [],
   "source": []
  }
 ],
 "metadata": {
  "kernelspec": {
   "display_name": "Python 3",
   "language": "python",
   "name": "python3"
  },
  "language_info": {
   "codemirror_mode": {
    "name": "ipython",
    "version": 3
   },
   "file_extension": ".py",
   "mimetype": "text/x-python",
   "name": "python",
   "nbconvert_exporter": "python",
   "pygments_lexer": "ipython3",
   "version": "3.6.1"
  }
 },
 "nbformat": 4,
 "nbformat_minor": 2
}
