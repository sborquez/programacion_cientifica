{
 "cells": [
  {
   "cell_type": "markdown",
   "metadata": {
    "deletable": true,
    "editable": true
   },
   "source": [
    "<center>\n",
    "    <h1> Scientific Programming in Python  </h1>\n",
    "    <h2> Topic 3: Handling Very Large Arrays, Memory Mappings </h2> \n",
    "</center>\n"
   ]
  },
  {
   "cell_type": "code",
   "execution_count": null,
   "metadata": {
    "collapsed": true,
    "deletable": true,
    "editable": true
   },
   "outputs": [],
   "source": [
    "import numpy as np\n",
    "import matplotlib.pyplot as plt\n",
    "import h5py\n",
    "\n",
    "def image_plot(img):\n",
    "    \"\"\"\n",
    "    img is an (nx,ny,3) numpy.array\n",
    "    \"\"\"\n",
    "    plt.figure(figsize=(12,12))\n",
    "    plt.imshow(img)\n",
    "    plt.axis('off')\n",
    "    plt.show()"
   ]
  },
  {
   "cell_type": "markdown",
   "metadata": {
    "deletable": true,
    "editable": true
   },
   "source": [
    "Para esta actividad trabajaremos con la siguiente imagen astronómica:"
   ]
  },
  {
   "cell_type": "code",
   "execution_count": null,
   "metadata": {
    "collapsed": false,
    "deletable": true,
    "editable": true
   },
   "outputs": [],
   "source": [
    "img = plt.imread('heic1608b.jpg', format='jpeg')[0:8660,:,:]\n",
    "rows, columns, channel = img.shape\n",
    "print(img.shape)"
   ]
  },
  {
   "cell_type": "code",
   "execution_count": null,
   "metadata": {
    "collapsed": false,
    "deletable": true,
    "editable": true,
    "scrolled": true
   },
   "outputs": [],
   "source": [
    "image_plot(img)"
   ]
  },
  {
   "cell_type": "markdown",
   "metadata": {
    "deletable": true,
    "editable": true
   },
   "source": [
    "#### Paso 1.\n",
    "\n",
    "1. Guarde `img` en un archivo `hdf5` en el formato que considere conveniente (puede utilizar _chunks_). Explique su elección. \n",
    "2. Elimine `img` de memoria principal.\n",
    "\n",
    "#### Paso 2\n",
    "\n",
    "1. Aplíque el siguiente filtro/kernel _sin overlap_ a cada canal de la imágen por separado:\n",
    "```Python\n",
    "K = 1/25. * np.ones((5,5))\n",
    "```\n",
    "2. No puede cargar `img` completamente en memoria. \n",
    "3. Realice `timeit` y `memit` del computo anterior.\n",
    "4. Guarde la imágen resultante. ¿Que fue lo que se le hizo a la imágen original?\n",
    "\n",
    "#### Paso 3\n",
    "\n",
    "Muestre la imágen resultante con la función `image_plot()`."
   ]
  },
  {
   "cell_type": "markdown",
   "metadata": {
    "deletable": true,
    "editable": true
   },
   "source": [
    "## Desarrollo"
   ]
  },
  {
   "cell_type": "code",
   "execution_count": null,
   "metadata": {
    "collapsed": false,
    "deletable": true,
    "editable": true
   },
   "outputs": [],
   "source": [
    "%load_ext memory_profiler"
   ]
  },
  {
   "cell_type": "markdown",
   "metadata": {
    "deletable": true,
    "editable": true
   },
   "source": [
    "#### Paso 1 "
   ]
  },
  {
   "cell_type": "code",
   "execution_count": null,
   "metadata": {
    "collapsed": false,
    "deletable": true,
    "editable": true
   },
   "outputs": [],
   "source": [
    "try:\n",
    "    fdata = h5py.File(\"image.h5\", \"w\")\n",
    "except IOError:    \n",
    "    fdata.close()\n",
    "    fdata = h5py.File(\"image.h5\", \"w\")"
   ]
  },
  {
   "cell_type": "markdown",
   "metadata": {},
   "source": [
    "Uso chunks de 100 filas, porque que recorro la imagen por columnas y para que vuela a acceder al disco cada 20  iteraciones de filas al aplicar el kernel."
   ]
  },
  {
   "cell_type": "code",
   "execution_count": null,
   "metadata": {
    "collapsed": true
   },
   "outputs": [],
   "source": [
    "imgdset = fdata.create_dataset(\"RGB\", (8660, 10260, 3), chunks=(100,10260,3),dtype='uint8')"
   ]
  },
  {
   "cell_type": "code",
   "execution_count": null,
   "metadata": {
    "collapsed": false,
    "deletable": true,
    "editable": true
   },
   "outputs": [],
   "source": [
    "for row in range(rows):\n",
    "    tmp = img[row,:,:]\n",
    "    imgdset[row,:] = tmp\n",
    "    del tmp"
   ]
  },
  {
   "cell_type": "code",
   "execution_count": null,
   "metadata": {
    "collapsed": true,
    "deletable": true,
    "editable": true
   },
   "outputs": [],
   "source": [
    "del img"
   ]
  },
  {
   "cell_type": "markdown",
   "metadata": {
    "deletable": true,
    "editable": true
   },
   "source": [
    "#### Paso 2"
   ]
  },
  {
   "cell_type": "code",
   "execution_count": null,
   "metadata": {
    "collapsed": false,
    "deletable": true,
    "editable": true
   },
   "outputs": [],
   "source": [
    "# Kernel\n",
    "K = 1/25. * np.ones((5,5))\n",
    "K = K.ravel()\n",
    "nrows = rows//5\n",
    "ncolumns = columns//5\n",
    "\n",
    "\n",
    "out = np.empty((nrows, ncolumns, channel), dtype='uint8')"
   ]
  },
  {
   "cell_type": "code",
   "execution_count": null,
   "metadata": {
    "collapsed": false,
    "deletable": true,
    "editable": true
   },
   "outputs": [],
   "source": [
    "def conv(imgdset, K,out):\n",
    "    for row in range(nrows):\n",
    "        for col in range(ncolumns):\n",
    "            r,c=row*5,col*5\n",
    "            section1 = imgdset[r:r+5,c:c+5].ravel(order=\"F\")\n",
    "            out[row,col,0]=np.dot(section1[0:25], K)\n",
    "            out[row,col,1]=np.dot(section1[25:50], K)\n",
    "            out[row,col,2]=np.dot(section1[50:75], K)\n",
    "            del section1"
   ]
  },
  {
   "cell_type": "code",
   "execution_count": null,
   "metadata": {
    "collapsed": false
   },
   "outputs": [],
   "source": [
    "conv(imgdset, K, out)"
   ]
  },
  {
   "cell_type": "code",
   "execution_count": null,
   "metadata": {
    "collapsed": false
   },
   "outputs": [],
   "source": [
    "%memit conv(imgdset, K, out)"
   ]
  },
  {
   "cell_type": "code",
   "execution_count": null,
   "metadata": {
    "collapsed": false,
    "deletable": true,
    "editable": true
   },
   "outputs": [],
   "source": [
    "%timeit conv(imgdset, K, out)"
   ]
  },
  {
   "cell_type": "markdown",
   "metadata": {},
   "source": [
    "El Kernel aplicado a la imagen reduce el tamaño de la imagen cambiando el número de píxeles que contiene a $\\frac{1}{25}$ del original."
   ]
  },
  {
   "cell_type": "markdown",
   "metadata": {},
   "source": [
    "#### Paso 3"
   ]
  },
  {
   "cell_type": "code",
   "execution_count": null,
   "metadata": {
    "collapsed": false,
    "deletable": true,
    "editable": true
   },
   "outputs": [],
   "source": [
    "image_plot(out)"
   ]
  }
 ],
 "metadata": {
  "kernelspec": {
   "display_name": "Python 3",
   "language": "python",
   "name": "python3"
  },
  "language_info": {
   "codemirror_mode": {
    "name": "ipython",
    "version": 3
   },
   "file_extension": ".py",
   "mimetype": "text/x-python",
   "name": "python",
   "nbconvert_exporter": "python",
   "pygments_lexer": "ipython3",
   "version": "3.6.1"
  }
 },
 "nbformat": 4,
 "nbformat_minor": 2
}
