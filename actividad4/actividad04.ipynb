{
 "cells": [
  {
   "cell_type": "markdown",
   "metadata": {
    "deletable": true,
    "editable": true
   },
   "source": [
    "<center>\n",
    "    <h1> Scientific Programming in Python  </h1>\n",
    "    <h2> Topic 4: Just in Time Compilation: Numba and NumExpr </h2> \n",
    "</center>\n",
    "\n",
    "_Notebook created by Martín Villanueva - `martin.villanueva@usm.cl` - DI UTFSM - April 2017._"
   ]
  },
  {
   "cell_type": "code",
   "execution_count": 3,
   "metadata": {
    "collapsed": true,
    "deletable": true,
    "editable": true
   },
   "outputs": [],
   "source": [
    "import numba\n",
    "import numpy as np\n",
    "import numexpr as ne\n",
    "import matplotlib.pyplot as plt"
   ]
  },
  {
   "cell_type": "markdown",
   "metadata": {
    "collapsed": true,
    "deletable": true,
    "editable": true
   },
   "source": [
    "En esta actividad implementaremos una conocida métrica para medir disimilitud entre conjuntos: __La métrica de Hausdorff__. Esta corresponde a un métrica o distancia ocupada para medir cuán disímiles son dos subconjuntos dados. \n",
    "\n",
    "\n",
    "Esta tiene muchas aplicaciones, en particular para comparar el parecido entre imágenes. En el caso en donde los conjuntos son arreglos bidimensionales, la definición es la siguiente:\n",
    "\n",
    "Sean $X \\in \\mathbb{R}^{m \\times 3}$ e  $Y \\in \\mathbb{R}^{n \\times 3}$ dos matrices, la métrica/distancia de Hausdorff sobre sobre estas como:\n",
    "\n",
    "$$\n",
    "d_H(X,Y) = \\max \\left(\\ \\max_{i\\leq m} \\min_{j \\leq n} d(X[i],Y[j]), \\ \\max_{j\\leq n} \\min_{i \\leq m} d(Y[j],X[i]) \\ \\right)\n",
    "$$\n",
    "\n",
    "donde $d$ es la _distancia Euclideana_ clásica. ($X[i]$ indíca la i-ésima fila de X).\n",
    "\n",
    "__Ilustración unidimensional:__ Distancia entre funciones."
   ]
  },
  {
   "cell_type": "markdown",
   "metadata": {
    "deletable": true,
    "editable": true
   },
   "source": [
    "1. Implemente la métrica de Hausdorff en Python clásico.\n",
    "2. Implemente la métrica de Hausdorff usando Numba (Forzando el modo __nopython__ y definiendo explícitamente las _signatures_ de las funciones).\n",
    "3. Cree `10` arreglos $X,Y$ aleatorios, con cantidad creciente de filas, y realice análsis de tiempos de ejecuciones de las funciones anteriores sobre estos arreglos.\n",
    "4. Concluya."
   ]
  },
  {
   "cell_type": "markdown",
   "metadata": {
    "deletable": true,
    "editable": true
   },
   "source": [
    "### Python Clásico"
   ]
  },
  {
   "cell_type": "code",
   "execution_count": 92,
   "metadata": {
    "collapsed": false,
    "deletable": true,
    "editable": true
   },
   "outputs": [],
   "source": [
    "def hausdorff_clasico(X, Y):\n",
    "    xrows = X.shape[0]\n",
    "    yrows = Y.shape[0]\n",
    "    dist = np.empty((xrows, yrows), dtype=\"float64\")\n",
    "    for i in range(xrows):\n",
    "        for j in range(yrows):\n",
    "            dist[i][j] = np.linalg.norm(X[i]-Y[j])\n",
    "    maxxmin = dist.min(axis=0).max()\n",
    "    maxymin = dist.min(axis=1).max()\n",
    "    return np.max([maxxmin, maxymin])\n",
    "    "
   ]
  },
  {
   "cell_type": "markdown",
   "metadata": {
    "deletable": true,
    "editable": true
   },
   "source": [
    "### Numba"
   ]
  },
  {
   "cell_type": "code",
   "execution_count": 126,
   "metadata": {
    "collapsed": false,
    "deletable": true,
    "editable": true,
    "scrolled": false
   },
   "outputs": [],
   "source": [
    "@numba.jit('float64 (float64[:,:], float64[:,:])', nopython=True)\n",
    "def hausdorff_numba(X, Y):\n",
    "    xrows = X.shape[0]\n",
    "    yrows = Y.shape[0]\n",
    "    dist = np.empty((xrows,yrows), dtype=np.float64)\n",
    "    xmin = np.empty(xrows, dtype=np.float64)\n",
    "    ymin = np.empty(yrows, dtype=np.float64)\n",
    "    for i in range(xrows):\n",
    "        for j in range(yrows):\n",
    "            dist[i][j] = np.linalg.norm(X[i]-Y[j])\n",
    "        xmin[i] = dist[i,:].min()\n",
    "    for j in range(yrows):\n",
    "        ymin[j] = dist[:,j].min()\n",
    "    maxx = xmin.max()\n",
    "    maxy = ymin.max()\n",
    "    if maxx > maxy:\n",
    "        return maxx\n",
    "    return maxy"
   ]
  },
  {
   "cell_type": "markdown",
   "metadata": {},
   "source": [
    "### Pruebas"
   ]
  },
  {
   "cell_type": "code",
   "execution_count": 130,
   "metadata": {
    "collapsed": false,
    "deletable": true,
    "editable": true
   },
   "outputs": [],
   "source": [
    "Xs = []\n",
    "Ys = []\n",
    "for i in range(1,11):\n",
    "    X = np.random.rand(i*100*3).reshape(i*100,3)*100\n",
    "    Y = np.random.rand(i*120*3).reshape(i*120,3)*100\n",
    "    Xs.append(X)\n",
    "    Ys.append(Y)"
   ]
  },
  {
   "cell_type": "code",
   "execution_count": 132,
   "metadata": {
    "collapsed": false,
    "deletable": true,
    "editable": true
   },
   "outputs": [
    {
     "name": "stdout",
     "output_type": "stream",
     "text": [
      "Experimento 1\n",
      "X:(100,3),Y:(120,3)\n",
      "Clasico:\n",
      "1 loop, best of 3: 328 ms per loop\n",
      "Numba:\n",
      "100 loops, best of 3: 11.2 ms per loop\n",
      "\n",
      "\n",
      "Experimento 2\n",
      "X:(200,3),Y:(240,3)\n",
      "Clasico:\n",
      "1 loop, best of 3: 1.31 s per loop\n",
      "Numba:\n",
      "10 loops, best of 3: 45 ms per loop\n",
      "\n",
      "\n",
      "Experimento 3\n",
      "X:(300,3),Y:(360,3)\n",
      "Clasico:\n",
      "1 loop, best of 3: 2.93 s per loop\n",
      "Numba:\n",
      "10 loops, best of 3: 101 ms per loop\n",
      "\n",
      "\n",
      "Experimento 4\n",
      "X:(400,3),Y:(480,3)\n",
      "Clasico:\n",
      "1 loop, best of 3: 5.16 s per loop\n",
      "Numba:\n",
      "10 loops, best of 3: 179 ms per loop\n",
      "\n",
      "\n",
      "Experimento 5\n",
      "X:(500,3),Y:(600,3)\n",
      "Clasico:\n",
      "1 loop, best of 3: 8.13 s per loop\n",
      "Numba:\n",
      "1 loop, best of 3: 285 ms per loop\n",
      "\n",
      "\n",
      "Experimento 6\n",
      "X:(600,3),Y:(720,3)\n",
      "Clasico:\n",
      "1 loop, best of 3: 11.7 s per loop\n",
      "Numba:\n",
      "1 loop, best of 3: 405 ms per loop\n",
      "\n",
      "\n",
      "Experimento 7\n",
      "X:(700,3),Y:(840,3)\n",
      "Clasico:\n",
      "1 loop, best of 3: 16.1 s per loop\n",
      "Numba:\n",
      "1 loop, best of 3: 568 ms per loop\n",
      "\n",
      "\n",
      "Experimento 8\n",
      "X:(800,3),Y:(960,3)\n",
      "Clasico:\n",
      "1 loop, best of 3: 21 s per loop\n",
      "Numba:\n",
      "1 loop, best of 3: 725 ms per loop\n",
      "\n",
      "\n",
      "Experimento 9\n",
      "X:(900,3),Y:(1080,3)\n",
      "Clasico:\n",
      "1 loop, best of 3: 26.4 s per loop\n",
      "Numba:\n",
      "1 loop, best of 3: 1.06 s per loop\n",
      "\n",
      "\n",
      "Experimento 10\n",
      "X:(1000,3),Y:(1200,3)\n",
      "Clasico:\n",
      "1 loop, best of 3: 33.8 s per loop\n",
      "Numba:\n",
      "1 loop, best of 3: 1.13 s per loop\n",
      "\n",
      "\n"
     ]
    }
   ],
   "source": [
    "pruebas = dict()\n",
    "for i in range(10):\n",
    "    print(\"Experimento\",i+1)\n",
    "    print(\"X:({0},{1}),Y:({2},{1})\".format(100*(i+1),3,120*(i+1)))\n",
    "    Xi = Xs[i]\n",
    "    Yi = Ys[i]\n",
    "    print(\"Clasico:\")\n",
    "    cls = %timeit -o hausdorff_clasico(Xi, Yi)\n",
    "    print(\"Numba:\")\n",
    "    num = %timeit -o hausdorff_numba(Xi,Yi)\n",
    "    print(\"\\n\")\n",
    "    pruebas[i] = (cls, num)"
   ]
  },
  {
   "cell_type": "markdown",
   "metadata": {
    "collapsed": true,
    "deletable": true,
    "editable": true
   },
   "source": [
    "#### Conclusion\n",
    "Efectivamente, el utilizar numba aunque puede costar el uso de funciones de numpy, reduce bastante el tiempo de ejecución de una función."
   ]
  },
  {
   "cell_type": "code",
   "execution_count": null,
   "metadata": {
    "collapsed": true
   },
   "outputs": [],
   "source": []
  }
 ],
 "metadata": {
  "kernelspec": {
   "display_name": "Python 3",
   "language": "python",
   "name": "python3"
  },
  "language_info": {
   "codemirror_mode": {
    "name": "ipython",
    "version": 3
   },
   "file_extension": ".py",
   "mimetype": "text/x-python",
   "name": "python",
   "nbconvert_exporter": "python",
   "pygments_lexer": "ipython3",
   "version": "3.6.1"
  }
 },
 "nbformat": 4,
 "nbformat_minor": 2
}
