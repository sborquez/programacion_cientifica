{
 "cells": [
  {
   "cell_type": "markdown",
   "metadata": {},
   "source": [
    "<h1 align=\"center\">Programación Científica en Python</h1>\n",
    "<h3 align=\"center\">Cellular Automaton: Conway's Game of Life</h3>\n",
    "<h6 align=\"center\">Sebastián Bórquez González - sborquez@alumnos.inf.utfsm.cl</h6>"
   ]
  },
  {
   "cell_type": "markdown",
   "metadata": {},
   "source": [
    "## Cellular Automaton: Conway's Game of Life\n",
    "\n",
    "El _Juego de la Vida_ es una aplicación de autómatas celulares (conjunto de reglas), para simular la formación de patrones en el crecimiento de colonias de organismos biológicos.\n",
    "\n",
    "\n",
    "Este juego se representa por medio de un arreglo bi-dimensional de __células vivas__ y __células muertas__. Las reglas para pasar de una generación a la otras son las siguientes (_Existen diferentes variaciones, pero estas son las más comunes_):\n",
    "\n",
    "* __Sobrepoblación__: Si una célula viva es rodeada por más de tres células vivas, muere.\n",
    "* __Estasis__: Si una célula viva es rodeada por dos o tres células vivas, sobrevive.\n",
    "* __Subpoblación__: Si una célula viva es rodeada por menos de dos células vivas, muere.\n",
    "* __Reproduction__: Si una célula muerta es rodeada por exáctamente tres células vivas, esta se vuelve una célula viva.\n",
    "\n",
    "Aquí cada célula es representada como un píxel en una grilla/arreglo bi-dimensional.\n",
    "\n",
    "Para más información visitar los siguientes links:\n",
    "* [https://en.wikipedia.org/wiki/Conway%27s_Game_of_Life](https://en.wikipedia.org/wiki/Conway%27s_Game_of_Life)\n",
    "* [https://jakevdp.github.io/blog/2013/08/07/conways-game-of-life/](https://jakevdp.github.io/blog/2013/08/07/conways-game-of-life/)\n",
    "* [https://bitstorm.org/gameoflife/](https://bitstorm.org/gameoflife/)"
   ]
  },
  {
   "cell_type": "code",
   "execution_count": 187,
   "metadata": {
    "collapsed": false
   },
   "outputs": [
    {
     "name": "stdout",
     "output_type": "stream",
     "text": [
      "The memory_profiler extension is already loaded. To reload it, use:\n",
      "  %reload_ext memory_profiler\n"
     ]
    }
   ],
   "source": [
    "import numba\n",
    "import numpy as np\n",
    "#import numexpr as ne\n",
    "#from scipy import ndimage\n",
    "import matplotlib.pyplot as plt\n",
    "from ipywidgets import interact, fixed, IntSlider\n",
    "\n",
    "%matplotlib inline\n",
    "%load_ext memory_profiler"
   ]
  },
  {
   "cell_type": "code",
   "execution_count": 198,
   "metadata": {
    "collapsed": false
   },
   "outputs": [],
   "source": [
    "def init_universe(rows, cols, cells):\n",
    "    universe = np.zeros((rows+2, cols+2), bool)\n",
    "    for cell in cells:\n",
    "        universe[cell] = True\n",
    "    return universe\n",
    "\n",
    "def init_universe_random(rows, cols):\n",
    "    universe = np.zeros((rows+2, cols+2), bool)\n",
    "    return universe\n",
    "\n",
    "def show(universe):\n",
    "    rows,cols = universe.shape\n",
    "    plt.figure(figsize=(10,10))\n",
    "    plt.imshow(universe[1:rows-1,1:cols-1], cmap='bwr')\n",
    "    #plt.imshow(universe, cmap='bwr')\n",
    "    plt.axis('off')\n",
    "    plt.grid()\n",
    "    plt.show()\n",
    "\n",
    "@numba.jit('boolean (boolean[:,:], int64[:,:])', nopython=True)\n",
    "def is_alive(neighborhood, rule):\n",
    "    return np.sum(neighborhood * rule) in (3,-6,-7)\n",
    "\n",
    "@numba.jit('boolean[:,:] (boolean[:,:], int64[:,:])')\n",
    "def step(universe, rule):\n",
    "    rows, cols = universe.shape\n",
    "    new_universe = np.zeros((rows,cols), bool)\n",
    "    for i in range(1,rows-1):\n",
    "        for j in range(1,cols-1):\n",
    "            new_universe[i,j] = is_alive(universe[i-1:i+2,j-1:j+2], rule)\n",
    "    return new_universe\n",
    "\n",
    "def evolve(universe, rule, t):\n",
    "    t0 = 0\n",
    "    while t0 < t:\n",
    "        universe = step(universe, rule)\n",
    "        t0 += 1\n",
    "    return universe \n",
    "\n",
    "rule = np.array([[1,1,1],[1,-9,1],[1,1,1]], int)"
   ]
  },
  {
   "cell_type": "code",
   "execution_count": 208,
   "metadata": {
    "collapsed": false
   },
   "outputs": [
    {
     "name": "stderr",
     "output_type": "stream",
     "text": [
      "/home/azuka/anaconda3/envs/science/lib/python3.6/site-packages/traitlets/traitlets.py:567: FutureWarning: comparison to `None` will result in an elementwise object comparison in the future.\n",
      "  silent = bool(old_value == new_value)\n"
     ]
    },
    {
     "data": {
      "application/vnd.jupyter.widget-view+json": {
       "model_id": "f83dc24ec2e146fb8321f47f44048268"
      }
     },
     "metadata": {},
     "output_type": "display_data"
    }
   ],
   "source": [
    "universe = init_universe(80,80,[(20,30),(20,31),(19,32),(21,32),(23,36),(24,34),(22,34),(23,34)])\n",
    "\n",
    "@interact(universe=fixed(universe), rule=fixed(rule), t=IntSlider(min=0,max=100,step=1,value=0))\n",
    "def evolution(universe, rule, t):\n",
    "    show(evolve(universe, rule, t))\n"
   ]
  }
 ],
 "metadata": {
  "kernelspec": {
   "display_name": "Python 3",
   "language": "python",
   "name": "python3"
  },
  "language_info": {
   "codemirror_mode": {
    "name": "ipython",
    "version": 3
   },
   "file_extension": ".py",
   "mimetype": "text/x-python",
   "name": "python",
   "nbconvert_exporter": "python",
   "pygments_lexer": "ipython3",
   "version": "3.6.1"
  }
 },
 "nbformat": 4,
 "nbformat_minor": 2
}
